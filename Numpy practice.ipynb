{
 "cells": [
  {
   "cell_type": "code",
   "execution_count": 1,
   "id": "15ff7f41-e51e-46c9-b635-df7acbc3c3d3",
   "metadata": {
    "tags": []
   },
   "outputs": [],
   "source": [
    "w1, w2, w3 = 0.3, 0.2, 0.5"
   ]
  },
  {
   "cell_type": "code",
   "execution_count": 2,
   "id": "7bb78cc3-bf01-4a7b-9ca8-8096c01f93a8",
   "metadata": {
    "tags": []
   },
   "outputs": [],
   "source": [
    "kanto_temp, kanto_rainfall, kanto_humidity = 73, 67, 43"
   ]
  },
  {
   "cell_type": "code",
   "execution_count": 3,
   "id": "8300d85c-4f88-4a12-bf0b-b2de6b5c69c7",
   "metadata": {
    "tags": []
   },
   "outputs": [
    {
     "name": "stdout",
     "output_type": "stream",
     "text": [
      "56.8\n"
     ]
    }
   ],
   "source": [
    "kanto_apple_yeild = kanto_temp*w1 +kanto_rainfall*w2 + kanto_humidity*w3\n",
    "print(kanto_apple_yeild)"
   ]
  },
  {
   "cell_type": "code",
   "execution_count": 4,
   "id": "2503dc79-101f-4aac-817b-79c8a617512c",
   "metadata": {
    "tags": []
   },
   "outputs": [],
   "source": [
    "kanto = [73, 67, 43]\n",
    "johto = [91, 88, 64]\n",
    "hoenn = [87, 138, 58]\n",
    "sinnoh = [102, 43, 37]\n",
    "unova = [69, 96, 70]"
   ]
  },
  {
   "cell_type": "code",
   "execution_count": 5,
   "id": "1bbe5e3c-83bf-4d87-ba6a-da6081af1b14",
   "metadata": {
    "tags": []
   },
   "outputs": [],
   "source": [
    "weights = [w1, w2, w3]"
   ]
  },
  {
   "cell_type": "code",
   "execution_count": 6,
   "id": "63d1362f-cbd2-4f2a-92f7-74b30f1b39cc",
   "metadata": {
    "tags": []
   },
   "outputs": [
    {
     "name": "stdout",
     "output_type": "stream",
     "text": [
      "56.8\n"
     ]
    }
   ],
   "source": [
    "result = 0\n",
    "for x, y in zip(kanto, weights):\n",
    "    result += x*y\n",
    "print(result)"
   ]
  },
  {
   "cell_type": "code",
   "execution_count": 7,
   "id": "df15863b-19ed-49fb-96d5-682b05b3cd72",
   "metadata": {
    "tags": []
   },
   "outputs": [],
   "source": [
    "def crop_yeild(region, weights):\n",
    "    result=0\n",
    "    for x, y in zip(region, weights):\n",
    "        result += x*y\n",
    "    print(result)"
   ]
  },
  {
   "cell_type": "code",
   "execution_count": 8,
   "id": "6a187004-2ca7-4a23-92ab-2f64d6ed1fbb",
   "metadata": {
    "tags": []
   },
   "outputs": [
    {
     "name": "stdout",
     "output_type": "stream",
     "text": [
      "CPU times: total: 0 ns\n",
      "Wall time: 0 ns\n",
      "56.8\n"
     ]
    }
   ],
   "source": [
    "%time\n",
    "crop_yeild(kanto, weights)"
   ]
  },
  {
   "cell_type": "markdown",
   "id": "9b0004a5-e2b3-4049-a3e8-ec8c2fc39eb8",
   "metadata": {},
   "source": [
    "# Starting with Numpy"
   ]
  },
  {
   "cell_type": "code",
   "execution_count": 9,
   "id": "e164e2ec-ca27-4bc4-9c21-f29527a801ef",
   "metadata": {
    "tags": []
   },
   "outputs": [],
   "source": [
    "import numpy as np"
   ]
  },
  {
   "cell_type": "code",
   "execution_count": 10,
   "id": "b9e062e9-53fe-41aa-affd-338c01b9d012",
   "metadata": {
    "tags": []
   },
   "outputs": [],
   "source": [
    "weights_np = np.array([w1, w2, w3])"
   ]
  },
  {
   "cell_type": "code",
   "execution_count": 11,
   "id": "39d2da0b-728f-44dd-81c0-bbd1974d501f",
   "metadata": {
    "tags": []
   },
   "outputs": [],
   "source": [
    "kanto_np = np.array(kanto)"
   ]
  },
  {
   "cell_type": "code",
   "execution_count": 12,
   "id": "87b1b142-613b-430f-bc17-c62cfc95c349",
   "metadata": {
    "tags": []
   },
   "outputs": [
    {
     "data": {
      "text/plain": [
       "array([73, 67, 43])"
      ]
     },
     "execution_count": 12,
     "metadata": {},
     "output_type": "execute_result"
    }
   ],
   "source": [
    "kanto_np"
   ]
  },
  {
   "cell_type": "code",
   "execution_count": 13,
   "id": "8d2ba366-8bf2-4670-af4e-7961b72e6658",
   "metadata": {
    "tags": []
   },
   "outputs": [
    {
     "name": "stdout",
     "output_type": "stream",
     "text": [
      "(3,)\n",
      "(3,)\n"
     ]
    }
   ],
   "source": [
    "print(kanto_np.shape)\n",
    "print(weights_np.shape)"
   ]
  },
  {
   "cell_type": "code",
   "execution_count": 14,
   "id": "64ef9006-36d3-4c5e-8dd3-868ede1c7fc3",
   "metadata": {
    "tags": []
   },
   "outputs": [
    {
     "name": "stdout",
     "output_type": "stream",
     "text": [
      "<class 'numpy.ndarray'>\n",
      "<class 'numpy.ndarray'>\n"
     ]
    }
   ],
   "source": [
    "print(type(weights_np))\n",
    "print(type(kanto_np))"
   ]
  },
  {
   "cell_type": "code",
   "execution_count": 15,
   "id": "0fd98a26-d8af-49e3-aee6-64a0c960414c",
   "metadata": {
    "tags": []
   },
   "outputs": [
    {
     "data": {
      "text/plain": [
       "array([21.9, 13.4, 21.5])"
      ]
     },
     "execution_count": 15,
     "metadata": {},
     "output_type": "execute_result"
    }
   ],
   "source": [
    "kanto_np * weights_np"
   ]
  },
  {
   "cell_type": "code",
   "execution_count": 16,
   "id": "9cc2a6a8-3625-4192-a233-20fada36e1aa",
   "metadata": {
    "tags": []
   },
   "outputs": [
    {
     "data": {
      "text/plain": [
       "56.8"
      ]
     },
     "execution_count": 16,
     "metadata": {},
     "output_type": "execute_result"
    }
   ],
   "source": [
    "np.dot(kanto_np, weights_np)"
   ]
  },
  {
   "cell_type": "code",
   "execution_count": 17,
   "id": "a647659a-d96e-4929-8f6a-5d6d3767c3d1",
   "metadata": {
    "tags": []
   },
   "outputs": [
    {
     "data": {
      "text/plain": [
       "56.8"
      ]
     },
     "execution_count": 17,
     "metadata": {},
     "output_type": "execute_result"
    }
   ],
   "source": [
    "np.sum(kanto_np * weights_np)"
   ]
  },
  {
   "cell_type": "markdown",
   "id": "aa05b849-5717-4b7d-8c6f-0ac19390466f",
   "metadata": {},
   "source": [
    "# Comparison bitween Numpy & List"
   ]
  },
  {
   "cell_type": "code",
   "execution_count": 18,
   "id": "7caa36a7-3eed-41ff-b3ca-073c68e4379d",
   "metadata": {
    "tags": []
   },
   "outputs": [],
   "source": [
    "# List\n",
    "arr1 = list(range(100000))\n",
    "arr2 = list(range(100000, 200000))\n",
    "\n",
    "# Numpy\n",
    "arr1_np = np.array(arr1)\n",
    "arr2_np = np.array(arr2)"
   ]
  },
  {
   "cell_type": "code",
   "execution_count": 19,
   "id": "b74073e0-5df4-4536-90ab-f65f37087e9b",
   "metadata": {
    "tags": []
   },
   "outputs": [
    {
     "name": "stdout",
     "output_type": "stream",
     "text": [
      "833323333350000\n",
      "CPU times: total: 93.8 ms\n",
      "Wall time: 85 ms\n"
     ]
    }
   ],
   "source": [
    "%%time\n",
    "result =0\n",
    "for x, y in zip(arr1, arr2):\n",
    "    result += x*y\n",
    "print(result)"
   ]
  },
  {
   "cell_type": "code",
   "execution_count": 20,
   "id": "7a67c221-93db-4277-a76b-2956fe11148b",
   "metadata": {
    "tags": []
   },
   "outputs": [
    {
     "name": "stdout",
     "output_type": "stream",
     "text": [
      "CPU times: total: 0 ns\n",
      "Wall time: 0 ns\n"
     ]
    },
    {
     "data": {
      "text/plain": [
       "893678192"
      ]
     },
     "execution_count": 20,
     "metadata": {},
     "output_type": "execute_result"
    }
   ],
   "source": [
    "%%time\n",
    "np.dot(arr1_np, arr2_np)"
   ]
  },
  {
   "cell_type": "code",
   "execution_count": 21,
   "id": "be46b426-a7f6-4aa1-9f83-f779b4c79a71",
   "metadata": {
    "tags": []
   },
   "outputs": [],
   "source": [
    "climate_data = np.array([[73, 67, 43],\n",
    "                        [91, 88, 64],\n",
    "                        [87, 134, 58],\n",
    "                        [102, 43, 37],\n",
    "                        [69, 96, 70]])"
   ]
  },
  {
   "cell_type": "code",
   "execution_count": 22,
   "id": "52b6c028-6609-40d8-89a2-1789bf1fbd4f",
   "metadata": {
    "tags": []
   },
   "outputs": [
    {
     "data": {
      "text/plain": [
       "(5, 3)"
      ]
     },
     "execution_count": 22,
     "metadata": {},
     "output_type": "execute_result"
    }
   ],
   "source": [
    "climate_data.shape"
   ]
  },
  {
   "cell_type": "code",
   "execution_count": null,
   "id": "6df0904f-0871-41f2-8c41-1e28646b4fe8",
   "metadata": {},
   "outputs": [],
   "source": []
  },
  {
   "cell_type": "code",
   "execution_count": 23,
   "id": "acad419d-7abb-45cb-b959-86544e23629a",
   "metadata": {
    "tags": []
   },
   "outputs": [
    {
     "data": {
      "text/plain": [
       "numpy.ndarray"
      ]
     },
     "execution_count": 23,
     "metadata": {},
     "output_type": "execute_result"
    }
   ],
   "source": [
    "type(climate_data)"
   ]
  },
  {
   "cell_type": "code",
   "execution_count": 24,
   "id": "be33babf-804c-45a2-ae67-5c4081f0c530",
   "metadata": {
    "tags": []
   },
   "outputs": [
    {
     "data": {
      "text/plain": [
       "5"
      ]
     },
     "execution_count": 24,
     "metadata": {},
     "output_type": "execute_result"
    }
   ],
   "source": [
    "len(climate_data)"
   ]
  },
  {
   "cell_type": "code",
   "execution_count": 25,
   "id": "377cb761-38c5-438d-b792-6f0ae53d8dcb",
   "metadata": {
    "tags": []
   },
   "outputs": [
    {
     "data": {
      "text/plain": [
       "134"
      ]
     },
     "execution_count": 25,
     "metadata": {},
     "output_type": "execute_result"
    }
   ],
   "source": [
    "np.max(climate_data)"
   ]
  },
  {
   "cell_type": "code",
   "execution_count": 26,
   "id": "7f3b67de-97f6-4f09-af4d-33f9d9a685e5",
   "metadata": {
    "tags": []
   },
   "outputs": [
    {
     "data": {
      "text/plain": [
       "(3,)"
      ]
     },
     "execution_count": 26,
     "metadata": {},
     "output_type": "execute_result"
    }
   ],
   "source": [
    "weights_np.shape"
   ]
  },
  {
   "cell_type": "code",
   "execution_count": 27,
   "id": "47a952ce-f436-46d2-9be5-8411d0f0aedc",
   "metadata": {
    "tags": []
   },
   "outputs": [
    {
     "data": {
      "text/plain": [
       "56.8"
      ]
     },
     "execution_count": 27,
     "metadata": {},
     "output_type": "execute_result"
    }
   ],
   "source": [
    "np.dot(kanto, weights_np)"
   ]
  },
  {
   "cell_type": "code",
   "execution_count": 28,
   "id": "8855e0b3-61fc-4202-9aac-c9b2c42a5714",
   "metadata": {},
   "outputs": [
    {
     "data": {
      "text/plain": [
       "56.8"
      ]
     },
     "execution_count": 28,
     "metadata": {},
     "output_type": "execute_result"
    }
   ],
   "source": [
    "np.sum(kanto * weights_np)"
   ]
  },
  {
   "cell_type": "code",
   "execution_count": 29,
   "id": "fc7847e0-29bd-4a50-84e6-8890690331e6",
   "metadata": {
    "tags": []
   },
   "outputs": [
    {
     "data": {
      "text/plain": [
       "array([0.3, 0.2, 0.5])"
      ]
     },
     "execution_count": 29,
     "metadata": {},
     "output_type": "execute_result"
    }
   ],
   "source": [
    "weights_np"
   ]
  },
  {
   "cell_type": "code",
   "execution_count": 30,
   "id": "3bf72154-5225-4009-ab0c-9c5df99b7dfa",
   "metadata": {
    "tags": []
   },
   "outputs": [
    {
     "data": {
      "text/plain": [
       "array([[ 73,  67,  43],\n",
       "       [ 91,  88,  64],\n",
       "       [ 87, 134,  58],\n",
       "       [102,  43,  37],\n",
       "       [ 69,  96,  70]])"
      ]
     },
     "execution_count": 30,
     "metadata": {},
     "output_type": "execute_result"
    }
   ],
   "source": [
    "climate_data"
   ]
  },
  {
   "cell_type": "code",
   "execution_count": 31,
   "id": "b0963dcc-359e-4c0b-8291-565adf164813",
   "metadata": {
    "tags": []
   },
   "outputs": [
    {
     "data": {
      "text/plain": [
       "array([56.8, 76.9, 81.9, 57.7, 74.9])"
      ]
     },
     "execution_count": 31,
     "metadata": {},
     "output_type": "execute_result"
    }
   ],
   "source": [
    "np.matmul(climate_data, weights_np)"
   ]
  },
  {
   "cell_type": "code",
   "execution_count": 32,
   "id": "ab8742fa-74f2-4646-84d6-94a92d88481c",
   "metadata": {
    "tags": []
   },
   "outputs": [
    {
     "data": {
      "text/plain": [
       "array([56.8, 76.9, 81.9, 57.7, 74.9])"
      ]
     },
     "execution_count": 32,
     "metadata": {},
     "output_type": "execute_result"
    }
   ],
   "source": [
    "climate_data @ weights_np"
   ]
  },
  {
   "cell_type": "code",
   "execution_count": 33,
   "id": "b1abf68a-d031-42a1-b6e5-1d3d10e50cc5",
   "metadata": {
    "tags": []
   },
   "outputs": [
    {
     "data": {
      "text/plain": [
       "(3,)"
      ]
     },
     "execution_count": 33,
     "metadata": {},
     "output_type": "execute_result"
    }
   ],
   "source": [
    "weights_np.shape"
   ]
  },
  {
   "cell_type": "code",
   "execution_count": 34,
   "id": "a68c9d7e-d752-48df-b09e-b65255db5356",
   "metadata": {
    "tags": []
   },
   "outputs": [
    {
     "data": {
      "text/plain": [
       "array([[0.3, 0.2, 0.5]])"
      ]
     },
     "execution_count": 34,
     "metadata": {},
     "output_type": "execute_result"
    }
   ],
   "source": [
    "weights_np.reshape(-1,3)"
   ]
  },
  {
   "cell_type": "code",
   "execution_count": 35,
   "id": "fe7a0f4e-8f3a-4dd5-93dc-76c1441187f6",
   "metadata": {
    "tags": []
   },
   "outputs": [
    {
     "data": {
      "text/plain": [
       "(3,)"
      ]
     },
     "execution_count": 35,
     "metadata": {},
     "output_type": "execute_result"
    }
   ],
   "source": [
    "weights_np.shape"
   ]
  },
  {
   "cell_type": "code",
   "execution_count": 36,
   "id": "6d704895-bb3c-447b-bd66-7d6dbbc0f345",
   "metadata": {
    "tags": []
   },
   "outputs": [
    {
     "data": {
      "text/plain": [
       "array([0.3, 0.2, 0.5])"
      ]
     },
     "execution_count": 36,
     "metadata": {},
     "output_type": "execute_result"
    }
   ],
   "source": [
    "weights_np.reshape(3,)"
   ]
  },
  {
   "cell_type": "code",
   "execution_count": 37,
   "id": "0514c01f-333c-4737-ba30-fa5ece9fc86c",
   "metadata": {
    "tags": []
   },
   "outputs": [
    {
     "data": {
      "text/plain": [
       "(3,)"
      ]
     },
     "execution_count": 37,
     "metadata": {},
     "output_type": "execute_result"
    }
   ],
   "source": [
    "weights_np.shape"
   ]
  },
  {
   "cell_type": "code",
   "execution_count": 39,
   "id": "911a1912-3110-4e67-b3ef-0ce8654c8350",
   "metadata": {
    "tags": []
   },
   "outputs": [],
   "source": [
    "climate_data = np.genfromtxt('data/climate.txt', delimiter=',', skip_header=True)"
   ]
  },
  {
   "cell_type": "code",
   "execution_count": 40,
   "id": "8b312dde-59c3-4b3c-98d3-448b84bd7590",
   "metadata": {
    "tags": []
   },
   "outputs": [
    {
     "data": {
      "text/plain": [
       "(10000, 3)"
      ]
     },
     "execution_count": 40,
     "metadata": {},
     "output_type": "execute_result"
    }
   ],
   "source": [
    "climate_data.shape"
   ]
  },
  {
   "cell_type": "code",
   "execution_count": 41,
   "id": "009e74bb-8077-4a17-868d-00c5304de010",
   "metadata": {
    "tags": []
   },
   "outputs": [
    {
     "data": {
      "text/plain": [
       "array([0.3, 0.2, 0.5])"
      ]
     },
     "execution_count": 41,
     "metadata": {},
     "output_type": "execute_result"
    }
   ],
   "source": [
    "weights_np"
   ]
  },
  {
   "cell_type": "code",
   "execution_count": 42,
   "id": "1fa2e6dd-89f7-4030-8a05-70e2e717d057",
   "metadata": {
    "tags": []
   },
   "outputs": [
    {
     "data": {
      "text/plain": [
       "(3,)"
      ]
     },
     "execution_count": 42,
     "metadata": {},
     "output_type": "execute_result"
    }
   ],
   "source": [
    "weights_np.shape"
   ]
  },
  {
   "cell_type": "code",
   "execution_count": 43,
   "id": "994d5f83-73da-416e-81f3-61b6a3ce7ec8",
   "metadata": {
    "tags": []
   },
   "outputs": [
    {
     "data": {
      "text/plain": [
       "array([[ 7.5, 15.2, 49.5],\n",
       "       [11.7, 13. , 35. ],\n",
       "       [17.7,  9. , 38.5],\n",
       "       ...,\n",
       "       [29.7, 12.4, 29. ],\n",
       "       [21. , 14.2, 45.5],\n",
       "       [27.6,  7.8, 38. ]])"
      ]
     },
     "execution_count": 43,
     "metadata": {},
     "output_type": "execute_result"
    }
   ],
   "source": [
    "climate_data *  weights_np"
   ]
  },
  {
   "cell_type": "code",
   "execution_count": 44,
   "id": "5d5be328-34f3-47cb-a134-4ceb56314c3f",
   "metadata": {
    "tags": []
   },
   "outputs": [
    {
     "data": {
      "text/plain": [
       "array([[25., 76., 99.],\n",
       "       [39., 65., 70.],\n",
       "       [59., 45., 77.],\n",
       "       ...,\n",
       "       [99., 62., 58.],\n",
       "       [70., 71., 91.],\n",
       "       [92., 39., 76.]])"
      ]
     },
     "execution_count": 44,
     "metadata": {},
     "output_type": "execute_result"
    }
   ],
   "source": [
    "climate_data"
   ]
  },
  {
   "cell_type": "code",
   "execution_count": 45,
   "id": "891e6a6f-4c0c-4b7f-bc02-e569f0e2d6b9",
   "metadata": {
    "tags": []
   },
   "outputs": [
    {
     "data": {
      "text/plain": [
       "array([72.2, 59.7, 65.2, ..., 71.1, 80.7, 73.4])"
      ]
     },
     "execution_count": 45,
     "metadata": {},
     "output_type": "execute_result"
    }
   ],
   "source": [
    "np.sum(climate_data*weights_np, axis=1)"
   ]
  },
  {
   "cell_type": "code",
   "execution_count": 46,
   "id": "8ee18b3b-1bc7-4bc5-b4b1-0d13506b08e6",
   "metadata": {
    "tags": []
   },
   "outputs": [
    {
     "data": {
      "text/plain": [
       "array([179524.2, 120348.6, 300533. ])"
      ]
     },
     "execution_count": 46,
     "metadata": {},
     "output_type": "execute_result"
    }
   ],
   "source": [
    "np.sum(climate_data*weights_np, axis=0)"
   ]
  },
  {
   "cell_type": "code",
   "execution_count": 47,
   "id": "6f281481-8158-4c62-ae94-a5c8128d3772",
   "metadata": {
    "tags": []
   },
   "outputs": [
    {
     "data": {
      "text/plain": [
       "array([72.2, 59.7, 65.2, ..., 71.1, 80.7, 73.4])"
      ]
     },
     "execution_count": 47,
     "metadata": {},
     "output_type": "execute_result"
    }
   ],
   "source": [
    "climate_data@weights_np"
   ]
  },
  {
   "cell_type": "code",
   "execution_count": 48,
   "id": "b0572e4d-c71b-414a-8b23-2d80d259a67b",
   "metadata": {
    "tags": []
   },
   "outputs": [],
   "source": [
    "yields = climate_data @ weights_np"
   ]
  },
  {
   "cell_type": "code",
   "execution_count": 49,
   "id": "9f8b814a-f32e-4224-8c44-0582d11f2d43",
   "metadata": {
    "tags": []
   },
   "outputs": [
    {
     "data": {
      "text/plain": [
       "array([72.2, 59.7, 65.2, ..., 71.1, 80.7, 73.4])"
      ]
     },
     "execution_count": 49,
     "metadata": {},
     "output_type": "execute_result"
    }
   ],
   "source": [
    "yields"
   ]
  },
  {
   "cell_type": "code",
   "execution_count": 50,
   "id": "0234282d-2f0e-4ddf-8a53-f058e38936b1",
   "metadata": {
    "tags": []
   },
   "outputs": [
    {
     "data": {
      "text/plain": [
       "(10000,)"
      ]
     },
     "execution_count": 50,
     "metadata": {},
     "output_type": "execute_result"
    }
   ],
   "source": [
    "yields.shape"
   ]
  },
  {
   "cell_type": "code",
   "execution_count": 51,
   "id": "bd3f7e0c-6366-48eb-9277-85f6b2a357f4",
   "metadata": {
    "tags": []
   },
   "outputs": [],
   "source": [
    "climate_conc_result = np.concatenate((climate_data, yields.reshape(-1, 1)), axis=1)"
   ]
  },
  {
   "cell_type": "code",
   "execution_count": 52,
   "id": "8ca08b81-a591-4756-b748-cb873e6c2025",
   "metadata": {
    "tags": []
   },
   "outputs": [
    {
     "data": {
      "text/plain": [
       "array([[25. , 76. , 99. , 72.2],\n",
       "       [39. , 65. , 70. , 59.7],\n",
       "       [59. , 45. , 77. , 65.2],\n",
       "       ...,\n",
       "       [99. , 62. , 58. , 71.1],\n",
       "       [70. , 71. , 91. , 80.7],\n",
       "       [92. , 39. , 76. , 73.4]])"
      ]
     },
     "execution_count": 52,
     "metadata": {},
     "output_type": "execute_result"
    }
   ],
   "source": [
    "climate_conc_result"
   ]
  },
  {
   "cell_type": "code",
   "execution_count": 53,
   "id": "269139eb-12d6-4cc0-bf73-99ebf4d599f2",
   "metadata": {
    "tags": []
   },
   "outputs": [
    {
     "data": {
      "text/plain": [
       "(10000,)"
      ]
     },
     "execution_count": 53,
     "metadata": {},
     "output_type": "execute_result"
    }
   ],
   "source": [
    "yields.shape"
   ]
  },
  {
   "cell_type": "code",
   "execution_count": 54,
   "id": "4913c2b8-b7b9-4ed9-906a-54bf678b6469",
   "metadata": {
    "tags": []
   },
   "outputs": [
    {
     "data": {
      "text/plain": [
       "(10000, 1)"
      ]
     },
     "execution_count": 54,
     "metadata": {},
     "output_type": "execute_result"
    }
   ],
   "source": [
    "yields.reshape(10000, 1).shape"
   ]
  },
  {
   "cell_type": "code",
   "execution_count": 55,
   "id": "06f93424-b4f6-402e-a3af-1fd931ed549e",
   "metadata": {
    "tags": []
   },
   "outputs": [
    {
     "data": {
      "text/plain": [
       "(10000,)"
      ]
     },
     "execution_count": 55,
     "metadata": {},
     "output_type": "execute_result"
    }
   ],
   "source": [
    "yields.shape"
   ]
  },
  {
   "cell_type": "code",
   "execution_count": 56,
   "id": "8442892d-9335-434d-b700-904883fd9e9b",
   "metadata": {
    "tags": []
   },
   "outputs": [],
   "source": [
    "np.savetxt('data/climate_conc_result.txt', climate_conc_result, fmt='%.2f', header = 'temperature, humidity, rainfall, yields', comments='')"
   ]
  },
  {
   "cell_type": "markdown",
   "id": "5e9fdfd8-e9f8-419f-b105-2a7348a1fea9",
   "metadata": {},
   "source": [
    "# Broadcasting"
   ]
  },
  {
   "cell_type": "code",
   "execution_count": 57,
   "id": "ef07cd71-b0e9-4e0d-86cd-e7db9b91c7df",
   "metadata": {
    "tags": []
   },
   "outputs": [],
   "source": [
    "arr1 = np.array([1, 2, 3])"
   ]
  },
  {
   "cell_type": "code",
   "execution_count": 58,
   "id": "adb67198-59be-479b-8068-02ebdfe6b9e0",
   "metadata": {
    "tags": []
   },
   "outputs": [],
   "source": [
    "arr2 = np.array([[[1, 2],\n",
    "                  [3, 4],\n",
    "                  [5, 6]],\n",
    "                 [[7, 8],\n",
    "                  [9, 10],\n",
    "                  [11, 12]]])"
   ]
  },
  {
   "cell_type": "code",
   "execution_count": 59,
   "id": "d78ccb02-330a-4d0b-a5b6-a871052292b9",
   "metadata": {
    "tags": []
   },
   "outputs": [
    {
     "data": {
      "text/plain": [
       "(2, 3, 2)"
      ]
     },
     "execution_count": 59,
     "metadata": {},
     "output_type": "execute_result"
    }
   ],
   "source": [
    "arr2.shape"
   ]
  },
  {
   "cell_type": "code",
   "execution_count": 60,
   "id": "4e30effe-4b09-48b8-b6bb-9d31c5a8680c",
   "metadata": {
    "tags": []
   },
   "outputs": [],
   "source": [
    "# Shape\n",
    "# arr1 -       x 2 broadcasted to 2 x 3 x 2\n",
    "# arr2 - 2 x 3 x 2"
   ]
  },
  {
   "cell_type": "code",
   "execution_count": 61,
   "id": "f13bd779-023e-4614-885d-81c889cb8b6f",
   "metadata": {
    "tags": []
   },
   "outputs": [
    {
     "ename": "ValueError",
     "evalue": "operands could not be broadcast together with shapes (3,) (2,3,2) ",
     "output_type": "error",
     "traceback": [
      "\u001b[1;31m---------------------------------------------------------------------------\u001b[0m",
      "\u001b[1;31mValueError\u001b[0m                                Traceback (most recent call last)",
      "Cell \u001b[1;32mIn[61], line 1\u001b[0m\n\u001b[1;32m----> 1\u001b[0m \u001b[43marr1\u001b[49m\u001b[43m \u001b[49m\u001b[38;5;241;43m+\u001b[39;49m\u001b[43m \u001b[49m\u001b[43marr2\u001b[49m\n",
      "\u001b[1;31mValueError\u001b[0m: operands could not be broadcast together with shapes (3,) (2,3,2) "
     ]
    }
   ],
   "source": [
    "arr1 + arr2"
   ]
  },
  {
   "cell_type": "code",
   "execution_count": 62,
   "id": "09f1e611-e501-4a29-82aa-5f95ab03ac81",
   "metadata": {
    "tags": []
   },
   "outputs": [
    {
     "data": {
      "text/plain": [
       "array([[ 1,  2,  3],\n",
       "       [ 2,  4,  6],\n",
       "       [ 3,  6,  9],\n",
       "       [ 4,  8, 12],\n",
       "       [ 5, 10, 15],\n",
       "       [ 6, 12, 18],\n",
       "       [ 7, 14, 21],\n",
       "       [ 8, 16, 24],\n",
       "       [ 9, 18, 27],\n",
       "       [10, 20, 30],\n",
       "       [11, 22, 33],\n",
       "       [12, 24, 36]])"
      ]
     },
     "execution_count": 62,
     "metadata": {},
     "output_type": "execute_result"
    }
   ],
   "source": [
    "arr1 * arr2.reshape(-1, 1)"
   ]
  },
  {
   "cell_type": "code",
   "execution_count": 63,
   "id": "46a6d4b8-aa5c-4a2f-89d3-e6fd13471bd8",
   "metadata": {
    "tags": []
   },
   "outputs": [],
   "source": [
    "arr2_reshaped = arr2.reshape(-1, 4)"
   ]
  },
  {
   "cell_type": "code",
   "execution_count": 64,
   "id": "f6d1d967-c052-4c00-932c-54de6ee837f8",
   "metadata": {
    "tags": []
   },
   "outputs": [
    {
     "data": {
      "text/plain": [
       "(3, 4)"
      ]
     },
     "execution_count": 64,
     "metadata": {},
     "output_type": "execute_result"
    }
   ],
   "source": [
    "arr2_reshaped.shape"
   ]
  },
  {
   "cell_type": "code",
   "execution_count": null,
   "id": "8bcbb0cf-d118-47aa-bd15-bf0ca5a05225",
   "metadata": {},
   "outputs": [],
   "source": []
  },
  {
   "cell_type": "code",
   "execution_count": null,
   "id": "f2dd43aa-5209-4e6f-8a84-0c0f83617901",
   "metadata": {},
   "outputs": [],
   "source": []
  }
 ],
 "metadata": {
  "kernelspec": {
   "display_name": "Python 3 (ipykernel)",
   "language": "python",
   "name": "python3"
  },
  "language_info": {
   "codemirror_mode": {
    "name": "ipython",
    "version": 3
   },
   "file_extension": ".py",
   "mimetype": "text/x-python",
   "name": "python",
   "nbconvert_exporter": "python",
   "pygments_lexer": "ipython3",
   "version": "3.10.8"
  }
 },
 "nbformat": 4,
 "nbformat_minor": 5
}
